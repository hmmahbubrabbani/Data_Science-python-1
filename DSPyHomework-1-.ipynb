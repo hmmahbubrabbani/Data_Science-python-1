{
 "cells": [
  {
   "cell_type": "code",
   "execution_count": 1,
   "id": "b1c30e3d",
   "metadata": {},
   "outputs": [
    {
     "data": {
      "text/plain": [
       "'this is My First Python programming class and i am learNING python string and its function'"
      ]
     },
     "execution_count": 1,
     "metadata": {},
     "output_type": "execute_result"
    }
   ],
   "source": [
    "s = \"this is My First Python programming class and i am learNING python string and its function\"\n",
    "s"
   ]
  },
  {
   "cell_type": "code",
   "execution_count": null,
   "id": "ea70521b",
   "metadata": {},
   "outputs": [],
   "source": [
    "1 . Try to extract data from index one to index 300 with a jump of 3 ? "
   ]
  },
  {
   "cell_type": "code",
   "execution_count": 2,
   "id": "e34b724d",
   "metadata": {},
   "outputs": [
    {
     "data": {
      "text/plain": [
       "'h   r tnrrmglsnimeNGyosi dtfco'"
      ]
     },
     "execution_count": 2,
     "metadata": {},
     "output_type": "execute_result"
    }
   ],
   "source": [
    "s[1:300:3]"
   ]
  },
  {
   "cell_type": "code",
   "execution_count": null,
   "id": "8ee0c4f2",
   "metadata": {},
   "outputs": [],
   "source": []
  },
  {
   "cell_type": "code",
   "execution_count": null,
   "id": "3e06c63f",
   "metadata": {},
   "outputs": [],
   "source": [
    "2. Try to reverse a string without using reverse function ?"
   ]
  },
  {
   "cell_type": "code",
   "execution_count": 7,
   "id": "eae29d94",
   "metadata": {},
   "outputs": [
    {
     "data": {
      "text/plain": [
       "'noitcnuf sti dna gnirts nohtyp GNINrael ma i dna ssalc gnimmargorp nohtyP tsriF yM si siht'"
      ]
     },
     "execution_count": 7,
     "metadata": {},
     "output_type": "execute_result"
    }
   ],
   "source": [
    "s[::-1]"
   ]
  },
  {
   "cell_type": "code",
   "execution_count": null,
   "id": "13d2eb7e",
   "metadata": {},
   "outputs": [],
   "source": []
  },
  {
   "cell_type": "code",
   "execution_count": null,
   "id": "9127b693",
   "metadata": {},
   "outputs": [],
   "source": [
    "3. Try to split a string after conversion of entire string in uppercase ?"
   ]
  },
  {
   "cell_type": "code",
   "execution_count": 16,
   "id": "6e6d4e70",
   "metadata": {},
   "outputs": [
    {
     "data": {
      "text/plain": [
       "['THIS',\n",
       " 'IS',\n",
       " 'MY',\n",
       " 'FIRST',\n",
       " 'PYTHON',\n",
       " 'PROGRAMMING',\n",
       " 'CLASS',\n",
       " 'AND',\n",
       " 'I',\n",
       " 'AM',\n",
       " 'LEARNING',\n",
       " 'PYTHON',\n",
       " 'STRING',\n",
       " 'AND',\n",
       " 'ITS',\n",
       " 'FUNCTION']"
      ]
     },
     "execution_count": 16,
     "metadata": {},
     "output_type": "execute_result"
    }
   ],
   "source": [
    "s.upper().split(\" \")"
   ]
  },
  {
   "cell_type": "code",
   "execution_count": null,
   "id": "60a98fc1",
   "metadata": {},
   "outputs": [],
   "source": []
  },
  {
   "cell_type": "code",
   "execution_count": 18,
   "id": "fe358391",
   "metadata": {},
   "outputs": [],
   "source": [
    "4. try to convert the whole string into lower case "
   ]
  },
  {
   "cell_type": "code",
   "execution_count": 19,
   "id": "fa40dbc5",
   "metadata": {},
   "outputs": [
    {
     "data": {
      "text/plain": [
       "'this is my first python programming class and i am learning python string and its function'"
      ]
     },
     "execution_count": 19,
     "metadata": {},
     "output_type": "execute_result"
    }
   ],
   "source": [
    "s.lower()"
   ]
  },
  {
   "cell_type": "code",
   "execution_count": null,
   "id": "0eb1a47e",
   "metadata": {},
   "outputs": [],
   "source": []
  },
  {
   "cell_type": "code",
   "execution_count": null,
   "id": "3ef6e1dc",
   "metadata": {},
   "outputs": [],
   "source": [
    "5 . Try to capitalize the whole string "
   ]
  },
  {
   "cell_type": "code",
   "execution_count": 28,
   "id": "d5b4593e",
   "metadata": {},
   "outputs": [
    {
     "data": {
      "text/plain": [
       "'This Is My First Python Programming Class And I Am Learning Python String And Its Function'"
      ]
     },
     "execution_count": 28,
     "metadata": {},
     "output_type": "execute_result"
    }
   ],
   "source": [
    "s.title()"
   ]
  },
  {
   "cell_type": "code",
   "execution_count": null,
   "id": "9d0a617f",
   "metadata": {},
   "outputs": [],
   "source": []
  },
  {
   "cell_type": "code",
   "execution_count": null,
   "id": "2109df78",
   "metadata": {},
   "outputs": [],
   "source": [
    "6 . Write a diference between isalnum() and isalpha()"
   ]
  },
  {
   "cell_type": "code",
   "execution_count": null,
   "id": "0ea4a982",
   "metadata": {},
   "outputs": [],
   "source": [
    "isalnum() and isalpha() Both are boolean function, but isalnum() will be true \n",
    "if the whole string contains only alphabet or only digit or both alphabet and digit. \n",
    "whereas isalpha() will be true when the whole string contains only alphabet, otherwise it will show false."
   ]
  },
  {
   "cell_type": "code",
   "execution_count": null,
   "id": "ac692a8b",
   "metadata": {},
   "outputs": [],
   "source": []
  },
  {
   "cell_type": "code",
   "execution_count": null,
   "id": "9eb7f114",
   "metadata": {},
   "outputs": [],
   "source": [
    "7. Try to give an example of expand tab"
   ]
  },
  {
   "cell_type": "code",
   "execution_count": 37,
   "id": "7d71293b",
   "metadata": {},
   "outputs": [
    {
     "data": {
      "text/plain": [
       "'Krish\\tNaik\\tineuron'"
      ]
     },
     "execution_count": 37,
     "metadata": {},
     "output_type": "execute_result"
    }
   ],
   "source": [
    "k='Krish\\tNaik\\tineuron'\n",
    "k"
   ]
  },
  {
   "cell_type": "code",
   "execution_count": 38,
   "id": "2bf23c59",
   "metadata": {},
   "outputs": [
    {
     "data": {
      "text/plain": [
       "'Krish   Naik    ineuron'"
      ]
     },
     "execution_count": 38,
     "metadata": {},
     "output_type": "execute_result"
    }
   ],
   "source": [
    "k.expandtabs()"
   ]
  },
  {
   "cell_type": "code",
   "execution_count": null,
   "id": "4c8afec6",
   "metadata": {},
   "outputs": [],
   "source": []
  },
  {
   "cell_type": "code",
   "execution_count": null,
   "id": "f58b86ae",
   "metadata": {},
   "outputs": [],
   "source": [
    "8 . Give an example of strip , lstrip and rstrip"
   ]
  },
  {
   "cell_type": "code",
   "execution_count": 3,
   "id": "52dca690",
   "metadata": {},
   "outputs": [
    {
     "data": {
      "text/plain": [
       "'Mahbub Rabbani'"
      ]
     },
     "execution_count": 3,
     "metadata": {},
     "output_type": "execute_result"
    }
   ],
   "source": [
    "m='   Mahbub Rabbani   '\n",
    "m.strip()"
   ]
  },
  {
   "cell_type": "code",
   "execution_count": 4,
   "id": "2a659af5",
   "metadata": {},
   "outputs": [
    {
     "data": {
      "text/plain": [
       "'Mahbub Rabbani   '"
      ]
     },
     "execution_count": 4,
     "metadata": {},
     "output_type": "execute_result"
    }
   ],
   "source": [
    "m.lstrip()"
   ]
  },
  {
   "cell_type": "code",
   "execution_count": 5,
   "id": "20533546",
   "metadata": {},
   "outputs": [
    {
     "data": {
      "text/plain": [
       "'   Mahbub Rabbani'"
      ]
     },
     "execution_count": 5,
     "metadata": {},
     "output_type": "execute_result"
    }
   ],
   "source": [
    "m.rstrip()"
   ]
  },
  {
   "cell_type": "code",
   "execution_count": null,
   "id": "7c5c6220",
   "metadata": {},
   "outputs": [],
   "source": [
    "9.  Replace a string charecter by another charector by taking your own example \n",
    "\"sudhanshu\""
   ]
  },
  {
   "cell_type": "code",
   "execution_count": 1,
   "id": "be3e420e",
   "metadata": {},
   "outputs": [
    {
     "data": {
      "text/plain": [
       "'sudhanshu'"
      ]
     },
     "execution_count": 1,
     "metadata": {},
     "output_type": "execute_result"
    }
   ],
   "source": [
    "s1=\"sudhanshu\"\n",
    "s1"
   ]
  },
  {
   "cell_type": "code",
   "execution_count": 6,
   "id": "f7e63a24",
   "metadata": {},
   "outputs": [
    {
     "name": "stdout",
     "output_type": "stream",
     "text": [
      "sodhansho\n"
     ]
    }
   ],
   "source": [
    "s2=print(s1.replace(\"u\",\"o\"))"
   ]
  },
  {
   "cell_type": "code",
   "execution_count": null,
   "id": "40111c6c",
   "metadata": {},
   "outputs": [],
   "source": []
  },
  {
   "cell_type": "code",
   "execution_count": null,
   "id": "ca3758b9",
   "metadata": {},
   "outputs": [],
   "source": [
    "10 . Try  to give a defination of string center function with and exmple"
   ]
  },
  {
   "cell_type": "code",
   "execution_count": null,
   "id": "1dcdff76",
   "metadata": {},
   "outputs": [],
   "source": [
    "The center() function will center allign the string using a specified character as the fill character.\n",
    "Inside bracket the number is total characters then comma and inside the quotation specified character will be there. \n",
    "For an example"
   ]
  },
  {
   "cell_type": "code",
   "execution_count": 41,
   "id": "e7563a3f",
   "metadata": {},
   "outputs": [
    {
     "data": {
      "text/plain": [
       "'Mahbub'"
      ]
     },
     "execution_count": 41,
     "metadata": {},
     "output_type": "execute_result"
    }
   ],
   "source": [
    "m1='Mahbub'\n",
    "m1"
   ]
  },
  {
   "cell_type": "code",
   "execution_count": 42,
   "id": "ed90a4f2",
   "metadata": {},
   "outputs": [
    {
     "data": {
      "text/plain": [
       "'*******Mahbub*******'"
      ]
     },
     "execution_count": 42,
     "metadata": {},
     "output_type": "execute_result"
    }
   ],
   "source": [
    "m1.center(20,'*')"
   ]
  },
  {
   "cell_type": "code",
   "execution_count": null,
   "id": "4288b2c6",
   "metadata": {},
   "outputs": [],
   "source": []
  },
  {
   "cell_type": "code",
   "execution_count": null,
   "id": "2e386ed8",
   "metadata": {},
   "outputs": [],
   "source": [
    "11 . Write your own definition of compiler and interpretor without copy paste form internet in your own language"
   ]
  },
  {
   "cell_type": "code",
   "execution_count": null,
   "id": "c6748de4",
   "metadata": {},
   "outputs": [],
   "source": [
    "Compiler is a translator of source code and it translates full code at a time and shows error at a time. On the other hand,\n",
    "Interpreter is also a translator but, it translates full code line by line not in a single run \n",
    "and when it finds an error then translating remain stopped. "
   ]
  },
  {
   "cell_type": "code",
   "execution_count": null,
   "id": "07ffe707",
   "metadata": {},
   "outputs": [],
   "source": [
    "12 . Python is a interpreted of compiled language give a clear ans with your understanding "
   ]
  },
  {
   "cell_type": "code",
   "execution_count": null,
   "id": "1007248c",
   "metadata": {},
   "outputs": [],
   "source": [
    "When we write python code, firstly it is compiled to Byte Code and then secondly Byte Code is interpreted to Machine Language\n",
    "by Python Virtual Machine line by line. So, We Can say that Python is an interpreted of compiled language. "
   ]
  },
  {
   "cell_type": "code",
   "execution_count": null,
   "id": "ef1e237b",
   "metadata": {},
   "outputs": [],
   "source": [
    "13 . Try to write a usecase of python with your understanding ."
   ]
  },
  {
   "cell_type": "code",
   "execution_count": null,
   "id": "5e29f316",
   "metadata": {},
   "outputs": [],
   "source": [
    "From our lesson of strings and its functions we may use python for Data cleaning by using various string functions."
   ]
  }
 ],
 "metadata": {
  "kernelspec": {
   "display_name": "Python 3 (ipykernel)",
   "language": "python",
   "name": "python3"
  },
  "language_info": {
   "codemirror_mode": {
    "name": "ipython",
    "version": 3
   },
   "file_extension": ".py",
   "mimetype": "text/x-python",
   "name": "python",
   "nbconvert_exporter": "python",
   "pygments_lexer": "ipython3",
   "version": "3.9.7"
  }
 },
 "nbformat": 4,
 "nbformat_minor": 5
}
